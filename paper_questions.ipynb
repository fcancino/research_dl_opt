{
 "cells": [
  {
   "cell_type": "markdown",
   "metadata": {},
   "source": [
    "Brother Chilton, \n",
    "\n",
    "I've been reading the paper and I have the following questions. I'm gonna try to look for answers. I am currently trying to understand section 2.1 and 2.2.\n",
    "\n",
    "How does the problem of finding the set of weights in the 2^M regions can be solved using a 2^M constrained optimization problem?\n",
    "\n",
    "Why do we need to solve a QP (Quadratic Program) for each hidden node?\n",
    "\n",
    "What are polyhederal cones?\n",
    "\n",
    "What are flat extreme rays?\n",
    "\n",
    "In section 2.2 what does it mean, \"They  are  the  projection  of ∂zf(z∗) onto  the space of individual parameters.\"? "
   ]
  },
  {
   "cell_type": "code",
   "execution_count": 1,
   "metadata": {},
   "outputs": [
    {
     "name": "stdout",
     "output_type": "stream",
     "text": [
      "Questions from paper\n"
     ]
    }
   ],
   "source": [
    "print(\"Questions from paper\")"
   ]
  },
  {
   "cell_type": "code",
   "execution_count": null,
   "metadata": {},
   "outputs": [],
   "source": []
  }
 ],
 "metadata": {
  "kernelspec": {
   "display_name": "Python 3",
   "language": "python",
   "name": "python3"
  },
  "language_info": {
   "codemirror_mode": {
    "name": "ipython",
    "version": 3
   },
   "file_extension": ".py",
   "mimetype": "text/x-python",
   "name": "python",
   "nbconvert_exporter": "python",
   "pygments_lexer": "ipython3",
   "version": "3.5.2"
  }
 },
 "nbformat": 4,
 "nbformat_minor": 2
}
